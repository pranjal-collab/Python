{
 "cells": [
  {
   "cell_type": "markdown",
   "metadata": {},
   "source": [
    "# print, if and else"
   ]
  },
  {
   "cell_type": "code",
   "execution_count": 1,
   "metadata": {},
   "outputs": [
    {
     "name": "stdout",
     "output_type": "stream",
     "text": [
      "(-0.8333333333333334+1.1426091000668406j) (-0.8333333333333334-1.1426091000668406j)\n"
     ]
    }
   ],
   "source": [
    "#solutions of quadratic equation \n",
    "a=3\n",
    "b=5\n",
    "c=6\n",
    "x1=(-b+(b**2-4*a*c)**0.5)/(2*a)\n",
    "x2=(-b-(b**2-4*a*c)**0.5)/(2*a)\n",
    "print(x1,x2)"
   ]
  },
  {
   "cell_type": "code",
   "execution_count": 2,
   "metadata": {},
   "outputs": [
    {
     "name": "stdout",
     "output_type": "stream",
     "text": [
      "solutions are imaginary\n"
     ]
    }
   ],
   "source": [
    "#nature of root\n",
    "D=b**2-4*a*c\n",
    "if D>=0:\n",
    "  print(\"solutions are real \")\n",
    "else:\n",
    "  print(\"solutions are imaginary\")"
   ]
  },
  {
   "cell_type": "code",
   "execution_count": 2,
   "metadata": {},
   "outputs": [
    {
     "name": "stdout",
     "output_type": "stream",
     "text": [
      "a is even\n"
     ]
    }
   ],
   "source": [
    "# cheking even or odd\n",
    "a=100\n",
    "if a%2==0:\n",
    "  print(\"a is even\")\n",
    "else:\n",
    "  print(\"a is odd\")\n"
   ]
  },
  {
   "cell_type": "code",
   "execution_count": 4,
   "metadata": {},
   "outputs": [
    {
     "name": "stdout",
     "output_type": "stream",
     "text": [
      "1.0\n"
     ]
    }
   ],
   "source": [
    "# code to devide a by b safely\n",
    "if b==0:\n",
    "   print(\"not define\")\n",
    "\n",
    "else:\n",
    "   print(a/b)"
   ]
  },
  {
   "cell_type": "code",
   "execution_count": 5,
   "metadata": {},
   "outputs": [
    {
     "name": "stdout",
     "output_type": "stream",
     "text": [
      "solutions are real\n"
     ]
    }
   ],
   "source": [
    "# Do the quadratic computation only if\n",
    "# the solution is going to be real.\n",
    "\n",
    "# Decision making step\n",
    "\n",
    "a = 5\n",
    "b = 50\n",
    "c = 4\n",
    "\n",
    "D = b**2 - 4*a*c\n",
    "\n",
    "if D >= 0:\n",
    "    print(\"solutions are real\")\n",
    "else:\n",
    "    print(\"solutions are complex\")"
   ]
  },
  {
   "cell_type": "code",
   "execution_count": 6,
   "metadata": {},
   "outputs": [
    {
     "name": "stdout",
     "output_type": "stream",
     "text": [
      "solutions are real\n"
     ]
    }
   ],
   "source": [
    "if D >= 0:\n",
    "    print(\"solutions are real\")\n",
    "\n",
    "if D < 0:\n",
    "    print(\"solutions are complex\")\n"
   ]
  },
  {
   "cell_type": "code",
   "execution_count": 5,
   "metadata": {},
   "outputs": [
    {
     "name": "stdout",
     "output_type": "stream",
     "text": [
      "Triangle possible\n",
      "perimeter 21\n",
      "Scalene\n"
     ]
    }
   ],
   "source": [
    "#triangle problem \n",
    "\n",
    "a = 7\n",
    "b = 9\n",
    "c = 5\n",
    "\n",
    "if a + b > c and b + c > a and c + a > b:\n",
    "    print(\"Triangle possible\")\n",
    "    perimeter=(a+b+c)\n",
    "    print(\"perimeter\",perimeter)\n",
    "    if a == b and b == c:\n",
    "        print(\"Equilateral\")\n",
    "    elif a == b or b == c or c == a:\n",
    "        print(\"Isosceles\")\n",
    "    else:\n",
    "        print(\"Scalene\")\n",
    "    \n",
    "else:\n",
    "    print(\"Not possible\")"
   ]
  },
  {
   "cell_type": "code",
   "execution_count": 7,
   "metadata": {},
   "outputs": [
    {
     "name": "stdout",
     "output_type": "stream",
     "text": [
      "the real roots are (-1.0, -1.0)\n"
     ]
    }
   ],
   "source": [
    "#for a given quadratic equation\n",
    "a=float(input())\n",
    "b=float(input())\n",
    "c=float(input())\n",
    "D=b**2-4*a*c\n",
    "if D>=0:\n",
    "    x1=(-b+D**0.5)/2*a\n",
    "    x2=(-b-D**0.5)/2*a\n",
    "    print(\"the real roots are\",(x1,x2))\n",
    "if D<0:\n",
    "    re=(-b/2*a)\n",
    "    im=(((-D)**0.5)/2*a)\n",
    "    print(\"real part of roots\",re)\n",
    "    print(\"imaginary part of roots\",im)\n"
   ]
  },
  {
   "cell_type": "code",
   "execution_count": 14,
   "metadata": {},
   "outputs": [
    {
     "name": "stdout",
     "output_type": "stream",
     "text": [
      "age 13.0\n",
      "teen\n"
     ]
    }
   ],
   "source": [
    "age=float(input())\n",
    "print(\"age\",age)\n",
    "if age>=19:\n",
    "    print(\"adult\")\n",
    "elif age>=13:\n",
    "    print(\"teen\")\n",
    "else:\n",
    "    print(\"child\")\n",
    "\n",
    "    \n"
   ]
  },
  {
   "cell_type": "markdown",
   "metadata": {},
   "source": [
    "# functions"
   ]
  },
  {
   "cell_type": "code",
   "execution_count": 21,
   "metadata": {},
   "outputs": [
    {
     "name": "stdout",
     "output_type": "stream",
     "text": [
      "the cost of product 1000\n",
      "discount on product 5\n",
      "real price 940.0\n"
     ]
    }
   ],
   "source": [
    "def discount(cost,d):# discount on product \n",
    "    ans=cost-(cost*(d/100))\n",
    "    return ans\n",
    "print(\"the cost of product\",x)\n",
    "x=int(input())\n",
    "print(\"discount on product\",y)\n",
    "y=int(input())\n",
    "print(\"real price\",discount(x,y))\n"
   ]
  },
  {
   "cell_type": "code",
   "execution_count": 10,
   "metadata": {},
   "outputs": [
    {
     "data": {
      "text/plain": [
       "True"
      ]
     },
     "execution_count": 10,
     "metadata": {},
     "output_type": "execute_result"
    }
   ],
   "source": [
    "#Given an integer, return True if it is even, else return False.\n",
    "\n",
    "def is_even(x):\n",
    "    if x%2==0:\n",
    "        return True\n",
    "    else:\n",
    "        return False\n",
    "    \n",
    "is_even (8)"
   ]
  },
  {
   "cell_type": "code",
   "execution_count": 11,
   "metadata": {},
   "outputs": [
    {
     "data": {
      "text/plain": [
       "9"
      ]
     },
     "execution_count": 11,
     "metadata": {},
     "output_type": "execute_result"
    }
   ],
   "source": [
    "#Given two integers, return the larger one.\n",
    "def is_greater(x,y):\n",
    "    if x>y:\n",
    "        return x\n",
    "    else:\n",
    "        return y\n",
    "is_greater(9,8)"
   ]
  },
  {
   "cell_type": "code",
   "execution_count": 16,
   "metadata": {},
   "outputs": [
    {
     "name": "stdout",
     "output_type": "stream",
     "text": [
      "true\n"
     ]
    },
    {
     "data": {
      "text/plain": [
       "104.0"
      ]
     },
     "execution_count": 16,
     "metadata": {},
     "output_type": "execute_result"
    }
   ],
   "source": [
    "\"\"\"Given a temperature in Celsius, convert it to Fahrenheit using the formula F = (C * 1.8) + 32.\n",
    " If the temperature is above 90°F, return True otherwise, return False.\"\"\"\n",
    "def tem_in_fahren(c):\n",
    "    F = (c * 1.8) + 32\n",
    "    if F>90:\n",
    "        print(\"true\")\n",
    "    else:\n",
    "        print(\"false\")\n",
    "    return F\n",
    "tem_in_fahren(40)\n"
   ]
  },
  {
   "cell_type": "code",
   "execution_count": 8,
   "metadata": {},
   "outputs": [
    {
     "name": "stdout",
     "output_type": "stream",
     "text": [
      "104.0\n"
     ]
    },
    {
     "data": {
      "text/plain": [
       "True"
      ]
     },
     "execution_count": 8,
     "metadata": {},
     "output_type": "execute_result"
    }
   ],
   "source": [
    "def tem_in_fahren(c):\n",
    "    F = (c * 1.8) + 32\n",
    "    print(F)\n",
    "    if F>90:\n",
    "        return True\n",
    "    else:\n",
    "        return False\n",
    "tem_in_fahren(40)\n",
    "\n"
   ]
  },
  {
   "cell_type": "code",
   "execution_count": 4,
   "metadata": {},
   "outputs": [
    {
     "data": {
      "text/plain": [
       "False"
      ]
     },
     "execution_count": 4,
     "metadata": {},
     "output_type": "execute_result"
    }
   ],
   "source": [
    "\"\"\"Given a year, return True if it is a leap year, else return False.\n",
    " A leap year is divisible by 4, except for years that are divisible by 100.\n",
    "   However, years that are divisible by 400 are also leap years.\"\"\"\n",
    "\n",
    "def is_leap_year(year):\n",
    "    if (year % 4 == 0 and year % 100 != 0) or (year % 400 == 0):\n",
    "        return True\n",
    "    else:\n",
    "        return False\n",
    "is_leap_year(1800)"
   ]
  },
  {
   "cell_type": "code",
   "execution_count": 6,
   "metadata": {},
   "outputs": [
    {
     "data": {
      "text/plain": [
       "0.5"
      ]
     },
     "execution_count": 6,
     "metadata": {},
     "output_type": "execute_result"
    }
   ],
   "source": [
    "#Given two numbers, a and b, return the value of a/b (return None if b is zero).\n",
    "def two_numbers(a,b):\n",
    "    if b==0:\n",
    "        return (\"none\")\n",
    "    else:\n",
    "        return a/b\n",
    "    \n",
    "two_numbers(11,22)"
   ]
  },
  {
   "cell_type": "code",
   "execution_count": 11,
   "metadata": {},
   "outputs": [
    {
     "data": {
      "text/plain": [
       "'origin'"
      ]
     },
     "execution_count": 11,
     "metadata": {},
     "output_type": "execute_result"
    }
   ],
   "source": [
    "#Given a point (x1, y1), return the quadrant (integer values given below) in which this point lies.\n",
    "def points(x,y):\n",
    "    if (x>0 and y>0):\n",
    "        return (\"first_quadrant\")\n",
    "    elif (x<0 and y>0):\n",
    "        return (\"second_quadrant\")\n",
    "    elif (x<0 and y<0):\n",
    "        return (\"third_quadrant\")\n",
    "    elif (x>0 and y<0):\n",
    "        return (\"fourth_quadrant\")\n",
    "    elif (x==0 and y==0):\n",
    "        return (\"origin\")\n",
    "    elif (x==0 and y>0):\n",
    "        return (\"positive_y_axis\")\n",
    "    elif (x>0 and y==0):\n",
    "        return (\"positive_x_axis\")\n",
    "    elif (x==0 and y<0):\n",
    "        return (\"negative_y_axis\")\n",
    "    else:\n",
    "        return (\"negative_x_axis\")\n",
    "points(0,0)"
   ]
  },
  {
   "cell_type": "code",
   "execution_count": 5,
   "metadata": {},
   "outputs": [
    {
     "data": {
      "text/plain": [
       "(-4.0, 0.0)"
      ]
     },
     "execution_count": 5,
     "metadata": {},
     "output_type": "execute_result"
    }
   ],
   "source": [
    "\"\"\"Given two points (x1, y1) and (x2, y2), return the slope and intercept of the line joining these two points (the line may be perfectly horizontal or vertical). \n",
    " Input should be in this format : (x1, y1, x2, y2).\"\"\"\n",
    "def points(x1, y1, x2, y2):\n",
    "    slope = (y2 - y1) / (x2 - x1)\n",
    "    intercept = y1 - slope * x1\n",
    "    return slope,intercept\n",
    "\n",
    "points(1,-4,0,0)\n",
    "\n",
    "\n"
   ]
  },
  {
   "cell_type": "code",
   "execution_count": 2,
   "metadata": {},
   "outputs": [
    {
     "name": "stdout",
     "output_type": "stream",
     "text": [
      "['root1:', (-0.75, (-7.34149965534362e-17-1.1989578808281798j)), 'root2:', (-0.75, (7.34149965534362e-17+1.1989578808281798j))]\n"
     ]
    }
   ],
   "source": [
    "def quadratic_solutions(a, b, c):\n",
    "    discriminant = b**2 - 4*a*c\n",
    "    real_part = -b / (2 * a)\n",
    "    \n",
    "    if discriminant > 0:\n",
    "        # Two distinct real roots\n",
    "        imaginary_part = 0\n",
    "        root1 = (real_part + (discriminant**0.5) / (2*a))\n",
    "        root2 = (real_part - (discriminant**0.5) / (2*a))\n",
    "    elif discriminant == 0:\n",
    "        # One double real root\n",
    "        imaginary_part = 0\n",
    "        root1 = (real_part)\n",
    "        root2 = (real_part)\n",
    "    else:\n",
    "        # Two complex roots\n",
    "        imaginary_part = (-discriminant**0.5) / (2*a)\n",
    "        root1 = (real_part, imaginary_part)\n",
    "        root2 = (real_part, -imaginary_part)\n",
    "\n",
    "    return [\"root1:\",root1,\"root2:\", root2]\n",
    "\n",
    "print(quadratic_solutions(2,3,4))"
   ]
  },
  {
   "cell_type": "code",
   "execution_count": 22,
   "metadata": {},
   "outputs": [],
   "source": [
    "\"\"\"Given three points, return True if they lie on the same straight line, else return False.\n",
    " Input should be in this format : (x1, y1, x2, y2, x3, y3).\"\"\"\n",
    "def points(x1, y1, x2, y2, x3, y3):\n",
    "    if (x2-x1)==0 or (x3-x2)==0:\n",
    "        return None\n",
    "    slope1= ((y2-y1)/(x2-x1))\n",
    "    slope2= ((y3-y2)/(x3-x2))\n",
    "    if slope1==slope2:\n",
    "        return True\n",
    "    else:\n",
    "        return False\n",
    "points(2,3,2,5,7,1,)"
   ]
  },
  {
   "cell_type": "code",
   "execution_count": 31,
   "metadata": {},
   "outputs": [
    {
     "data": {
      "text/plain": [
       "0"
      ]
     },
     "execution_count": 31,
     "metadata": {},
     "output_type": "execute_result"
    }
   ],
   "source": [
    "'''Given three integers, return the smallest one.'''\n",
    "def numbers(a,b,c):\n",
    "    if a <= b and a <= c:\n",
    "        return a\n",
    "    elif b <= a and b <= c:\n",
    "        return b\n",
    "    else:\n",
    "        return c\n",
    "numbers(1,0,1)"
   ]
  },
  {
   "cell_type": "code",
   "execution_count": 44,
   "metadata": {},
   "outputs": [
    {
     "data": {
      "text/plain": [
       "3628800"
      ]
     },
     "execution_count": 44,
     "metadata": {},
     "output_type": "execute_result"
    }
   ],
   "source": [
    "def func_fact(n):\n",
    "    fact_n=1\n",
    "    for i in range(n):\n",
    "        fact_n=fact_n*(i+1)\n",
    "    return fact_n\n",
    "func_fact(10)\n"
   ]
  },
  {
   "cell_type": "code",
   "execution_count": 48,
   "metadata": {},
   "outputs": [
    {
     "data": {
      "text/plain": [
       "45"
      ]
     },
     "execution_count": 48,
     "metadata": {},
     "output_type": "execute_result"
    }
   ],
   "source": [
    "def func_sum_n(n):\n",
    "    sum_n=0\n",
    "    for i in range (n):\n",
    "        sum_n=sum_n+i\n",
    "    return sum_n\n",
    "func_sum_n(10)"
   ]
  },
  {
   "cell_type": "code",
   "execution_count": null,
   "metadata": {},
   "outputs": [],
   "source": [
    "def func_sum_n(n):\n",
    "    sum_n=0\n",
    "    for i in range (n):\n",
    "        sum_n=sum_n+i\n",
    "    return sum_n\n",
    "func_sum_n(10)"
   ]
  },
  {
   "cell_type": "markdown",
   "metadata": {},
   "source": [
    "# loops while \n"
   ]
  },
  {
   "cell_type": "code",
   "execution_count": null,
   "metadata": {},
   "outputs": [],
   "source": [
    "i=0\n",
    "while(i<10):\n",
    "    i=i+1\n",
    "    print(i)\n",
    "   "
   ]
  },
  {
   "cell_type": "code",
   "execution_count": null,
   "metadata": {},
   "outputs": [],
   "source": [
    "# find the sum of 1 to 10\n",
    "# we will need 2 variables here\n",
    "# one to keep count from 1to10\n",
    "# another to keep track of the sum \n",
    "i=1\n",
    "sum_n=0\n",
    "while (i<10):\n",
    "    print(i)\n",
    "    sum_n=sum_n+i\n",
    "    i=i+1\n",
    "    print(i,sum_n)\n"
   ]
  },
  {
   "cell_type": "code",
   "execution_count": null,
   "metadata": {},
   "outputs": [],
   "source": [
    "i=1\n",
    "sum_n=0\n",
    "while (i<10):\n",
    "    print(\"i at the loop begginning:\",i)\n",
    "    sum_n=sum_n+i\n",
    "    i=i+1\n",
    "    print(\"i at loop end :\",i)\n",
    "    print(\"sum at loop end:\",i)\n",
    "    print(\"/n\")\n",
    "\n"
   ]
  },
  {
   "cell_type": "code",
   "execution_count": null,
   "metadata": {},
   "outputs": [],
   "source": [
    "i=1                     # product using loop\n",
    "prod_n=1\n",
    "n=10\n",
    "while (i<=n):\n",
    "    prod_n=prod_n*i\n",
    "    i=i+1\n",
    "print(prod_n)\n",
    "    "
   ]
  },
  {
   "cell_type": "code",
   "execution_count": 34,
   "metadata": {},
   "outputs": [
    {
     "name": "stdout",
     "output_type": "stream",
     "text": [
      "3628800\n"
     ]
    }
   ],
   "source": [
    "i=1                     # factorial using loop\n",
    "fact_n=1\n",
    "n=10\n",
    "while (i<=n):\n",
    "    fact_n=fact_n*i\n",
    "    i=i+1\n",
    "print(fact_n)\n",
    "    "
   ]
  },
  {
   "cell_type": "code",
   "execution_count": 31,
   "metadata": {},
   "outputs": [
    {
     "name": "stdout",
     "output_type": "stream",
     "text": [
      "650\n"
     ]
    }
   ],
   "source": [
    "# find the sum of all the even from 2 to n\n",
    "i=2\n",
    "sum_n=0\n",
    "n=50\n",
    "while (i<=n):\n",
    "    sum_n=sum_n+i\n",
    "    i=i+2\n",
    "print(sum_n)\n",
    "\n",
    "      "
   ]
  },
  {
   "cell_type": "code",
   "execution_count": 33,
   "metadata": {},
   "outputs": [
    {
     "name": "stdout",
     "output_type": "stream",
     "text": [
      "625\n"
     ]
    }
   ],
   "source": [
    "# find the sum of all odd from 1ton\n",
    "i=1\n",
    "sum_n=0\n",
    "n=50\n",
    "while (i<=n):\n",
    "    sum_n=sum_n+i\n",
    "    i=i+2\n",
    "print(sum_n)\n"
   ]
  },
  {
   "cell_type": "markdown",
   "metadata": {},
   "source": [
    "# for "
   ]
  },
  {
   "cell_type": "code",
   "execution_count": null,
   "metadata": {},
   "outputs": [],
   "source": [
    "for i in range(10):\n",
    "    print(i)"
   ]
  },
  {
   "cell_type": "code",
   "execution_count": null,
   "metadata": {},
   "outputs": [],
   "source": [
    "sum_n=0\n",
    "n=50\n",
    "for i in range(n+1):\n",
    "    sum_n=sum_n+i\n",
    "print(sum_n)"
   ]
  },
  {
   "cell_type": "code",
   "execution_count": null,
   "metadata": {},
   "outputs": [],
   "source": [
    "# find the fact. of n using for loop \n",
    "\n",
    "fact_n=1\n",
    "n=50\n",
    "for i in range (n):\n",
    "    fact_n=fact_n*(i+1)\n",
    "    print(i+1,fact_n)\n",
    "\n",
    "print(fact_n)"
   ]
  },
  {
   "cell_type": "code",
   "execution_count": null,
   "metadata": {},
   "outputs": [],
   "source": [
    "for i in range (1,10,2):\n",
    "    print(i)"
   ]
  },
  {
   "cell_type": "code",
   "execution_count": null,
   "metadata": {},
   "outputs": [],
   "source": [
    "for i in range (2,10,2):\n",
    "    print(i)"
   ]
  }
 ],
 "metadata": {
  "kernelspec": {
   "display_name": "Python 3",
   "language": "python",
   "name": "python3"
  },
  "language_info": {
   "codemirror_mode": {
    "name": "ipython",
    "version": 3
   },
   "file_extension": ".py",
   "mimetype": "text/x-python",
   "name": "python",
   "nbconvert_exporter": "python",
   "pygments_lexer": "ipython3",
   "version": "3.12.5"
  }
 },
 "nbformat": 4,
 "nbformat_minor": 2
}
